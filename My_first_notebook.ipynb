{
  "nbformat": 4,
  "nbformat_minor": 0,
  "metadata": {
    "colab": {
      "provenance": [],
      "authorship_tag": "ABX9TyOha0mB2ub0dK5AGHYA/GC1",
      "include_colab_link": true
    },
    "kernelspec": {
      "name": "python3",
      "display_name": "Python 3"
    },
    "language_info": {
      "name": "python"
    }
  },
  "cells": [
    {
      "cell_type": "markdown",
      "metadata": {
        "id": "view-in-github",
        "colab_type": "text"
      },
      "source": [
        "<a href=\"https://colab.research.google.com/github/Liz018/my-first-repository-/blob/main/My_first_notebook.ipynb\" target=\"_parent\"><img src=\"https://colab.research.google.com/assets/colab-badge.svg\" alt=\"Open In Colab\"/></a>"
      ]
    },
    {
      "cell_type": "code",
      "execution_count": 5,
      "metadata": {
        "colab": {
          "base_uri": "https://localhost:8080/"
        },
        "id": "Su6Fzvi-leq0",
        "outputId": "b072eef3-736f-4883-e52a-6a8ad03ef120"
      },
      "outputs": [
        {
          "output_type": "stream",
          "name": "stdout",
          "text": [
            "hola Lizeth\n",
            "15\n",
            "8\n"
          ]
        }
      ],
      "source": [
        "name=\"Lizeth\"\n",
        "print(\"hola\",name)\n",
        "a = 3\n",
        "b = 5\n",
        "c = a * b\n",
        "d = a + b\n",
        "print(c)\n",
        "print(d)\n"
      ]
    },
    {
      "cell_type": "code",
      "source": [],
      "metadata": {
        "id": "bZ9gVYT8o-Af"
      },
      "execution_count": null,
      "outputs": []
    }
  ]
}